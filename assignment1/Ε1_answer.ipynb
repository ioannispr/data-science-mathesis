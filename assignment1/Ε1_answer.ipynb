{
 "cells": [
  {
   "cell_type": "markdown",
   "id": "5d2394ce",
   "metadata": {},
   "source": [
    "# Απάντηση Ε1-assignment1"
   ]
  },
  {
   "cell_type": "markdown",
   "id": "c2d95e60",
   "metadata": {},
   "source": [
    "### Ε1: Συγκέντρωση των Δεδομένων"
   ]
  },
  {
   "cell_type": "code",
   "execution_count": 1,
   "id": "a16e3b1e",
   "metadata": {},
   "outputs": [],
   "source": [
    "# Φόρτωση δεδομένων απο NOAA"
   ]
  },
  {
   "cell_type": "code",
   "execution_count": 2,
   "id": "86d91ce8",
   "metadata": {},
   "outputs": [],
   "source": [
    "import pandas as pd\n",
    "weather_df=pd.read_csv('noaa_hellinikon_1995_2020.csv')"
   ]
  },
  {
   "cell_type": "code",
   "execution_count": 3,
   "id": "5b881a86",
   "metadata": {},
   "outputs": [],
   "source": [
    "# 'Ελεγχος στα δεδομένα"
   ]
  },
  {
   "cell_type": "code",
   "execution_count": 4,
   "id": "7d27050d",
   "metadata": {},
   "outputs": [
    {
     "data": {
      "text/html": [
       "<div>\n",
       "<style scoped>\n",
       "    .dataframe tbody tr th:only-of-type {\n",
       "        vertical-align: middle;\n",
       "    }\n",
       "\n",
       "    .dataframe tbody tr th {\n",
       "        vertical-align: top;\n",
       "    }\n",
       "\n",
       "    .dataframe thead th {\n",
       "        text-align: right;\n",
       "    }\n",
       "</style>\n",
       "<table border=\"1\" class=\"dataframe\">\n",
       "  <thead>\n",
       "    <tr style=\"text-align: right;\">\n",
       "      <th></th>\n",
       "      <th>STATION</th>\n",
       "      <th>NAME</th>\n",
       "      <th>DATE</th>\n",
       "      <th>TAVG</th>\n",
       "    </tr>\n",
       "  </thead>\n",
       "  <tbody>\n",
       "    <tr>\n",
       "      <th>0</th>\n",
       "      <td>GR000016716</td>\n",
       "      <td>HELLINIKON, GR</td>\n",
       "      <td>1955-01-01</td>\n",
       "      <td>NaN</td>\n",
       "    </tr>\n",
       "    <tr>\n",
       "      <th>1</th>\n",
       "      <td>GR000016716</td>\n",
       "      <td>HELLINIKON, GR</td>\n",
       "      <td>1955-01-02</td>\n",
       "      <td>NaN</td>\n",
       "    </tr>\n",
       "    <tr>\n",
       "      <th>2</th>\n",
       "      <td>GR000016716</td>\n",
       "      <td>HELLINIKON, GR</td>\n",
       "      <td>1955-01-03</td>\n",
       "      <td>NaN</td>\n",
       "    </tr>\n",
       "    <tr>\n",
       "      <th>3</th>\n",
       "      <td>GR000016716</td>\n",
       "      <td>HELLINIKON, GR</td>\n",
       "      <td>1955-01-04</td>\n",
       "      <td>NaN</td>\n",
       "    </tr>\n",
       "    <tr>\n",
       "      <th>4</th>\n",
       "      <td>GR000016716</td>\n",
       "      <td>HELLINIKON, GR</td>\n",
       "      <td>1955-01-05</td>\n",
       "      <td>NaN</td>\n",
       "    </tr>\n",
       "    <tr>\n",
       "      <th>5</th>\n",
       "      <td>GR000016716</td>\n",
       "      <td>HELLINIKON, GR</td>\n",
       "      <td>1955-01-06</td>\n",
       "      <td>NaN</td>\n",
       "    </tr>\n",
       "    <tr>\n",
       "      <th>6</th>\n",
       "      <td>GR000016716</td>\n",
       "      <td>HELLINIKON, GR</td>\n",
       "      <td>1955-01-07</td>\n",
       "      <td>NaN</td>\n",
       "    </tr>\n",
       "    <tr>\n",
       "      <th>7</th>\n",
       "      <td>GR000016716</td>\n",
       "      <td>HELLINIKON, GR</td>\n",
       "      <td>1955-01-08</td>\n",
       "      <td>NaN</td>\n",
       "    </tr>\n",
       "    <tr>\n",
       "      <th>8</th>\n",
       "      <td>GR000016716</td>\n",
       "      <td>HELLINIKON, GR</td>\n",
       "      <td>1955-01-09</td>\n",
       "      <td>NaN</td>\n",
       "    </tr>\n",
       "    <tr>\n",
       "      <th>9</th>\n",
       "      <td>GR000016716</td>\n",
       "      <td>HELLINIKON, GR</td>\n",
       "      <td>1955-01-10</td>\n",
       "      <td>NaN</td>\n",
       "    </tr>\n",
       "  </tbody>\n",
       "</table>\n",
       "</div>"
      ],
      "text/plain": [
       "       STATION            NAME        DATE  TAVG\n",
       "0  GR000016716  HELLINIKON, GR  1955-01-01   NaN\n",
       "1  GR000016716  HELLINIKON, GR  1955-01-02   NaN\n",
       "2  GR000016716  HELLINIKON, GR  1955-01-03   NaN\n",
       "3  GR000016716  HELLINIKON, GR  1955-01-04   NaN\n",
       "4  GR000016716  HELLINIKON, GR  1955-01-05   NaN\n",
       "5  GR000016716  HELLINIKON, GR  1955-01-06   NaN\n",
       "6  GR000016716  HELLINIKON, GR  1955-01-07   NaN\n",
       "7  GR000016716  HELLINIKON, GR  1955-01-08   NaN\n",
       "8  GR000016716  HELLINIKON, GR  1955-01-09   NaN\n",
       "9  GR000016716  HELLINIKON, GR  1955-01-10   NaN"
      ]
     },
     "execution_count": 4,
     "metadata": {},
     "output_type": "execute_result"
    }
   ],
   "source": [
    "weather_df.head(10)"
   ]
  },
  {
   "cell_type": "code",
   "execution_count": 5,
   "id": "1d4c8929",
   "metadata": {},
   "outputs": [
    {
     "name": "stdout",
     "output_type": "stream",
     "text": [
      "min_date:  1955-01-01\n",
      "max_date:  2020-12-31\n"
     ]
    }
   ],
   "source": [
    "print('min_date: ',weather_df['DATE'].min()) # min date \n",
    "print('max_date: ',weather_df['DATE'].max()) # max date"
   ]
  },
  {
   "cell_type": "code",
   "execution_count": 6,
   "id": "e8ce83eb",
   "metadata": {},
   "outputs": [
    {
     "name": "stdout",
     "output_type": "stream",
     "text": [
      "<class 'pandas.core.frame.DataFrame'>\n",
      "RangeIndex: 23251 entries, 0 to 23250\n",
      "Data columns (total 4 columns):\n",
      " #   Column   Non-Null Count  Dtype  \n",
      "---  ------   --------------  -----  \n",
      " 0   STATION  23251 non-null  object \n",
      " 1   NAME     23251 non-null  object \n",
      " 2   DATE     23251 non-null  object \n",
      " 3   TAVG     20940 non-null  float64\n",
      "dtypes: float64(1), object(3)\n",
      "memory usage: 726.7+ KB\n"
     ]
    }
   ],
   "source": [
    "weather_df.info()"
   ]
  },
  {
   "cell_type": "code",
   "execution_count": 7,
   "id": "1c0b8dfb",
   "metadata": {},
   "outputs": [],
   "source": [
    "# Εκ πρώτης όψεως με την εντολή info παρατηρούμε ότι η κολώνα \"TAVG\" έχει 23251-20940= 2311 null τιμές που πρέπει να γεμίσουμε. Ας το επιβεβαιώσουμε..."
   ]
  },
  {
   "cell_type": "code",
   "execution_count": 8,
   "id": "0cc33e5c",
   "metadata": {},
   "outputs": [
    {
     "data": {
      "text/html": [
       "<div>\n",
       "<style scoped>\n",
       "    .dataframe tbody tr th:only-of-type {\n",
       "        vertical-align: middle;\n",
       "    }\n",
       "\n",
       "    .dataframe tbody tr th {\n",
       "        vertical-align: top;\n",
       "    }\n",
       "\n",
       "    .dataframe thead th {\n",
       "        text-align: right;\n",
       "    }\n",
       "</style>\n",
       "<table border=\"1\" class=\"dataframe\">\n",
       "  <thead>\n",
       "    <tr style=\"text-align: right;\">\n",
       "      <th></th>\n",
       "      <th>null_values_per_column</th>\n",
       "    </tr>\n",
       "  </thead>\n",
       "  <tbody>\n",
       "    <tr>\n",
       "      <th>STATION</th>\n",
       "      <td>0</td>\n",
       "    </tr>\n",
       "    <tr>\n",
       "      <th>NAME</th>\n",
       "      <td>0</td>\n",
       "    </tr>\n",
       "    <tr>\n",
       "      <th>DATE</th>\n",
       "      <td>0</td>\n",
       "    </tr>\n",
       "    <tr>\n",
       "      <th>TAVG</th>\n",
       "      <td>2311</td>\n",
       "    </tr>\n",
       "  </tbody>\n",
       "</table>\n",
       "</div>"
      ],
      "text/plain": [
       "         null_values_per_column\n",
       "STATION                       0\n",
       "NAME                          0\n",
       "DATE                          0\n",
       "TAVG                       2311"
      ]
     },
     "execution_count": 8,
     "metadata": {},
     "output_type": "execute_result"
    }
   ],
   "source": [
    "weather_df.isnull().sum().to_frame('null_values_per_column')"
   ]
  },
  {
   "cell_type": "code",
   "execution_count": 9,
   "id": "7066e129",
   "metadata": {},
   "outputs": [
    {
     "data": {
      "text/plain": [
       "array(['HELLINIKON, GR'], dtype=object)"
      ]
     },
     "execution_count": 9,
     "metadata": {},
     "output_type": "execute_result"
    }
   ],
   "source": [
    "weather_df['NAME'].unique()"
   ]
  },
  {
   "cell_type": "code",
   "execution_count": 10,
   "id": "883191da",
   "metadata": {},
   "outputs": [
    {
     "data": {
      "text/plain": [
       "array(['GR000016716'], dtype=object)"
      ]
     },
     "execution_count": 10,
     "metadata": {},
     "output_type": "execute_result"
    }
   ],
   "source": [
    "weather_df['STATION'].unique()"
   ]
  },
  {
   "cell_type": "code",
   "execution_count": 11,
   "id": "cf5a8338",
   "metadata": {},
   "outputs": [],
   "source": [
    "# Ας δούμε περίπου σε ποια περίοδο αντιστοιχούν οι null τιμές"
   ]
  },
  {
   "cell_type": "code",
   "execution_count": 12,
   "id": "a8052190",
   "metadata": {},
   "outputs": [
    {
     "data": {
      "text/html": [
       "<div>\n",
       "<style scoped>\n",
       "    .dataframe tbody tr th:only-of-type {\n",
       "        vertical-align: middle;\n",
       "    }\n",
       "\n",
       "    .dataframe tbody tr th {\n",
       "        vertical-align: top;\n",
       "    }\n",
       "\n",
       "    .dataframe thead th {\n",
       "        text-align: right;\n",
       "    }\n",
       "</style>\n",
       "<table border=\"1\" class=\"dataframe\">\n",
       "  <thead>\n",
       "    <tr style=\"text-align: right;\">\n",
       "      <th></th>\n",
       "      <th>DATE</th>\n",
       "    </tr>\n",
       "  </thead>\n",
       "  <tbody>\n",
       "    <tr>\n",
       "      <th>0</th>\n",
       "      <td>1955-01-01</td>\n",
       "    </tr>\n",
       "    <tr>\n",
       "      <th>1</th>\n",
       "      <td>1955-01-02</td>\n",
       "    </tr>\n",
       "    <tr>\n",
       "      <th>2</th>\n",
       "      <td>1955-01-03</td>\n",
       "    </tr>\n",
       "    <tr>\n",
       "      <th>3</th>\n",
       "      <td>1955-01-04</td>\n",
       "    </tr>\n",
       "    <tr>\n",
       "      <th>4</th>\n",
       "      <td>1955-01-05</td>\n",
       "    </tr>\n",
       "    <tr>\n",
       "      <th>...</th>\n",
       "      <td>...</td>\n",
       "    </tr>\n",
       "    <tr>\n",
       "      <th>7166</th>\n",
       "      <td>1974-08-15</td>\n",
       "    </tr>\n",
       "    <tr>\n",
       "      <th>7167</th>\n",
       "      <td>1974-08-16</td>\n",
       "    </tr>\n",
       "    <tr>\n",
       "      <th>7455</th>\n",
       "      <td>1975-05-31</td>\n",
       "    </tr>\n",
       "    <tr>\n",
       "      <th>7958</th>\n",
       "      <td>1976-10-15</td>\n",
       "    </tr>\n",
       "    <tr>\n",
       "      <th>16080</th>\n",
       "      <td>1999-01-10</td>\n",
       "    </tr>\n",
       "  </tbody>\n",
       "</table>\n",
       "<p>2311 rows × 1 columns</p>\n",
       "</div>"
      ],
      "text/plain": [
       "             DATE\n",
       "0      1955-01-01\n",
       "1      1955-01-02\n",
       "2      1955-01-03\n",
       "3      1955-01-04\n",
       "4      1955-01-05\n",
       "...           ...\n",
       "7166   1974-08-15\n",
       "7167   1974-08-16\n",
       "7455   1975-05-31\n",
       "7958   1976-10-15\n",
       "16080  1999-01-10\n",
       "\n",
       "[2311 rows x 1 columns]"
      ]
     },
     "execution_count": 12,
     "metadata": {},
     "output_type": "execute_result"
    }
   ],
   "source": [
    "weather_df[weather_df['TAVG'].isnull()]['DATE'].to_frame()"
   ]
  },
  {
   "cell_type": "code",
   "execution_count": 13,
   "id": "697cfab5",
   "metadata": {},
   "outputs": [
    {
     "data": {
      "text/plain": [
       "'1955-01-01'"
      ]
     },
     "execution_count": 13,
     "metadata": {},
     "output_type": "execute_result"
    }
   ],
   "source": [
    "weather_df[weather_df['TAVG'].isnull()]['DATE'].min() # η μικρότερη date με null τιμή"
   ]
  },
  {
   "cell_type": "code",
   "execution_count": 14,
   "id": "fbfba85b",
   "metadata": {},
   "outputs": [
    {
     "data": {
      "text/plain": [
       "'1999-01-10'"
      ]
     },
     "execution_count": 14,
     "metadata": {},
     "output_type": "execute_result"
    }
   ],
   "source": [
    "weather_df[weather_df['TAVG'].isnull()]['DATE'].max() # η μεγαλύτερη date με null τιμή"
   ]
  },
  {
   "cell_type": "code",
   "execution_count": 15,
   "id": "d8959047",
   "metadata": {},
   "outputs": [],
   "source": [
    "# Φόρτωση δεδομένων απο Hellenic Data Service"
   ]
  },
  {
   "cell_type": "code",
   "execution_count": 16,
   "id": "c827404e",
   "metadata": {},
   "outputs": [],
   "source": [
    "athens_2010_2019_df=pd.read_csv('athens.csv', header=None)\n",
    "columns_extra=['DATE','TAVG','TMAX','TMIN','RH','HPA(%)','RAIN-MM','NONE','NONE1','NONE2','NONE3','WAVG','WDRCT','WGUST']\n",
    "athens_2010_2019_df.columns=columns_extra\n",
    "# print(len(columns_extra))"
   ]
  },
  {
   "cell_type": "code",
   "execution_count": 17,
   "id": "a6e9ce50",
   "metadata": {},
   "outputs": [
    {
     "data": {
      "text/html": [
       "<div>\n",
       "<style scoped>\n",
       "    .dataframe tbody tr th:only-of-type {\n",
       "        vertical-align: middle;\n",
       "    }\n",
       "\n",
       "    .dataframe tbody tr th {\n",
       "        vertical-align: top;\n",
       "    }\n",
       "\n",
       "    .dataframe thead th {\n",
       "        text-align: right;\n",
       "    }\n",
       "</style>\n",
       "<table border=\"1\" class=\"dataframe\">\n",
       "  <thead>\n",
       "    <tr style=\"text-align: right;\">\n",
       "      <th></th>\n",
       "      <th>DATE</th>\n",
       "      <th>TAVG</th>\n",
       "      <th>TMAX</th>\n",
       "      <th>TMIN</th>\n",
       "      <th>RH</th>\n",
       "      <th>HPA(%)</th>\n",
       "      <th>RAIN-MM</th>\n",
       "      <th>NONE</th>\n",
       "      <th>NONE1</th>\n",
       "      <th>NONE2</th>\n",
       "      <th>NONE3</th>\n",
       "      <th>WAVG</th>\n",
       "      <th>WDRCT</th>\n",
       "      <th>WGUST</th>\n",
       "    </tr>\n",
       "  </thead>\n",
       "  <tbody>\n",
       "    <tr>\n",
       "      <th>0</th>\n",
       "      <td>2010-01-01</td>\n",
       "      <td>17.9</td>\n",
       "      <td>18.1</td>\n",
       "      <td>17.8</td>\n",
       "      <td>61.4</td>\n",
       "      <td>91</td>\n",
       "      <td>33</td>\n",
       "      <td>1003.6</td>\n",
       "      <td>1006.3</td>\n",
       "      <td>1002.0</td>\n",
       "      <td>0.2</td>\n",
       "      <td>4.0</td>\n",
       "      <td>WSW</td>\n",
       "      <td>12.7</td>\n",
       "    </tr>\n",
       "    <tr>\n",
       "      <th>1</th>\n",
       "      <td>2010-01-02</td>\n",
       "      <td>15.6</td>\n",
       "      <td>15.7</td>\n",
       "      <td>15.5</td>\n",
       "      <td>57.4</td>\n",
       "      <td>70</td>\n",
       "      <td>45</td>\n",
       "      <td>1005.2</td>\n",
       "      <td>1008.7</td>\n",
       "      <td>1001.5</td>\n",
       "      <td>0.0</td>\n",
       "      <td>6.8</td>\n",
       "      <td>WSW</td>\n",
       "      <td>20.7</td>\n",
       "    </tr>\n",
       "    <tr>\n",
       "      <th>2</th>\n",
       "      <td>2010-01-03</td>\n",
       "      <td>13.5</td>\n",
       "      <td>13.6</td>\n",
       "      <td>13.4</td>\n",
       "      <td>56.0</td>\n",
       "      <td>76</td>\n",
       "      <td>39</td>\n",
       "      <td>1011.7</td>\n",
       "      <td>1016.7</td>\n",
       "      <td>1008.6</td>\n",
       "      <td>0.0</td>\n",
       "      <td>5.0</td>\n",
       "      <td>WSW</td>\n",
       "      <td>15.4</td>\n",
       "    </tr>\n",
       "    <tr>\n",
       "      <th>3</th>\n",
       "      <td>2010-01-04</td>\n",
       "      <td>9.5</td>\n",
       "      <td>9.6</td>\n",
       "      <td>9.5</td>\n",
       "      <td>50.7</td>\n",
       "      <td>60</td>\n",
       "      <td>38</td>\n",
       "      <td>1021.3</td>\n",
       "      <td>1023.1</td>\n",
       "      <td>1016.8</td>\n",
       "      <td>0.0</td>\n",
       "      <td>4.3</td>\n",
       "      <td>NNE</td>\n",
       "      <td>11.0</td>\n",
       "    </tr>\n",
       "    <tr>\n",
       "      <th>4</th>\n",
       "      <td>2010-01-05</td>\n",
       "      <td>13.4</td>\n",
       "      <td>13.5</td>\n",
       "      <td>13.4</td>\n",
       "      <td>70.5</td>\n",
       "      <td>82</td>\n",
       "      <td>54</td>\n",
       "      <td>1018.7</td>\n",
       "      <td>1022.1</td>\n",
       "      <td>1015.5</td>\n",
       "      <td>0.0</td>\n",
       "      <td>7.9</td>\n",
       "      <td>S</td>\n",
       "      <td>19.8</td>\n",
       "    </tr>\n",
       "    <tr>\n",
       "      <th>5</th>\n",
       "      <td>2010-01-06</td>\n",
       "      <td>16.8</td>\n",
       "      <td>16.9</td>\n",
       "      <td>16.8</td>\n",
       "      <td>79.3</td>\n",
       "      <td>83</td>\n",
       "      <td>72</td>\n",
       "      <td>1012.9</td>\n",
       "      <td>1015.6</td>\n",
       "      <td>1011.1</td>\n",
       "      <td>0.0</td>\n",
       "      <td>15.2</td>\n",
       "      <td>S</td>\n",
       "      <td>34.3</td>\n",
       "    </tr>\n",
       "    <tr>\n",
       "      <th>6</th>\n",
       "      <td>2010-01-07</td>\n",
       "      <td>16.6</td>\n",
       "      <td>16.6</td>\n",
       "      <td>16.5</td>\n",
       "      <td>80.3</td>\n",
       "      <td>88</td>\n",
       "      <td>75</td>\n",
       "      <td>1016.3</td>\n",
       "      <td>1019.9</td>\n",
       "      <td>1012.9</td>\n",
       "      <td>0.0</td>\n",
       "      <td>4.5</td>\n",
       "      <td>SSE</td>\n",
       "      <td>11.9</td>\n",
       "    </tr>\n",
       "    <tr>\n",
       "      <th>7</th>\n",
       "      <td>2010-01-08</td>\n",
       "      <td>16.1</td>\n",
       "      <td>16.2</td>\n",
       "      <td>16.0</td>\n",
       "      <td>79.9</td>\n",
       "      <td>89</td>\n",
       "      <td>70</td>\n",
       "      <td>1019.5</td>\n",
       "      <td>1021.4</td>\n",
       "      <td>1016.9</td>\n",
       "      <td>0.0</td>\n",
       "      <td>3.5</td>\n",
       "      <td>E</td>\n",
       "      <td>11.2</td>\n",
       "    </tr>\n",
       "    <tr>\n",
       "      <th>8</th>\n",
       "      <td>2010-01-09</td>\n",
       "      <td>17.2</td>\n",
       "      <td>17.2</td>\n",
       "      <td>17.1</td>\n",
       "      <td>77.1</td>\n",
       "      <td>85</td>\n",
       "      <td>70</td>\n",
       "      <td>1014.7</td>\n",
       "      <td>1016.8</td>\n",
       "      <td>1012.1</td>\n",
       "      <td>0.0</td>\n",
       "      <td>9.0</td>\n",
       "      <td>SSE</td>\n",
       "      <td>21.7</td>\n",
       "    </tr>\n",
       "    <tr>\n",
       "      <th>9</th>\n",
       "      <td>2010-01-10</td>\n",
       "      <td>14.3</td>\n",
       "      <td>14.4</td>\n",
       "      <td>14.3</td>\n",
       "      <td>61.9</td>\n",
       "      <td>85</td>\n",
       "      <td>38</td>\n",
       "      <td>1012.0</td>\n",
       "      <td>1014.3</td>\n",
       "      <td>1009.6</td>\n",
       "      <td>0.0</td>\n",
       "      <td>5.3</td>\n",
       "      <td>SW</td>\n",
       "      <td>15.7</td>\n",
       "    </tr>\n",
       "  </tbody>\n",
       "</table>\n",
       "</div>"
      ],
      "text/plain": [
       "         DATE  TAVG  TMAX  TMIN    RH  HPA(%)  RAIN-MM    NONE   NONE1  \\\n",
       "0  2010-01-01  17.9  18.1  17.8  61.4      91       33  1003.6  1006.3   \n",
       "1  2010-01-02  15.6  15.7  15.5  57.4      70       45  1005.2  1008.7   \n",
       "2  2010-01-03  13.5  13.6  13.4  56.0      76       39  1011.7  1016.7   \n",
       "3  2010-01-04   9.5   9.6   9.5  50.7      60       38  1021.3  1023.1   \n",
       "4  2010-01-05  13.4  13.5  13.4  70.5      82       54  1018.7  1022.1   \n",
       "5  2010-01-06  16.8  16.9  16.8  79.3      83       72  1012.9  1015.6   \n",
       "6  2010-01-07  16.6  16.6  16.5  80.3      88       75  1016.3  1019.9   \n",
       "7  2010-01-08  16.1  16.2  16.0  79.9      89       70  1019.5  1021.4   \n",
       "8  2010-01-09  17.2  17.2  17.1  77.1      85       70  1014.7  1016.8   \n",
       "9  2010-01-10  14.3  14.4  14.3  61.9      85       38  1012.0  1014.3   \n",
       "\n",
       "    NONE2  NONE3  WAVG WDRCT  WGUST  \n",
       "0  1002.0    0.2   4.0   WSW   12.7  \n",
       "1  1001.5    0.0   6.8   WSW   20.7  \n",
       "2  1008.6    0.0   5.0   WSW   15.4  \n",
       "3  1016.8    0.0   4.3   NNE   11.0  \n",
       "4  1015.5    0.0   7.9     S   19.8  \n",
       "5  1011.1    0.0  15.2     S   34.3  \n",
       "6  1012.9    0.0   4.5   SSE   11.9  \n",
       "7  1016.9    0.0   3.5     E   11.2  \n",
       "8  1012.1    0.0   9.0   SSE   21.7  \n",
       "9  1009.6    0.0   5.3    SW   15.7  "
      ]
     },
     "execution_count": 17,
     "metadata": {},
     "output_type": "execute_result"
    }
   ],
   "source": [
    "athens_2010_2019_df.head(10)"
   ]
  },
  {
   "cell_type": "code",
   "execution_count": 18,
   "id": "a73da1f0",
   "metadata": {},
   "outputs": [
    {
     "name": "stdout",
     "output_type": "stream",
     "text": [
      "<class 'pandas.core.frame.DataFrame'>\n",
      "RangeIndex: 3652 entries, 0 to 3651\n",
      "Data columns (total 14 columns):\n",
      " #   Column   Non-Null Count  Dtype  \n",
      "---  ------   --------------  -----  \n",
      " 0   DATE     3652 non-null   object \n",
      " 1   TAVG     3652 non-null   object \n",
      " 2   TMAX     3652 non-null   object \n",
      " 3   TMIN     3652 non-null   object \n",
      " 4   RH       3652 non-null   float64\n",
      " 5   HPA(%)   3652 non-null   int64  \n",
      " 6   RAIN-MM  3652 non-null   int64  \n",
      " 7   NONE     3652 non-null   float64\n",
      " 8   NONE1    3652 non-null   float64\n",
      " 9   NONE2    3652 non-null   float64\n",
      " 10  NONE3    3652 non-null   float64\n",
      " 11  WAVG     3652 non-null   float64\n",
      " 12  WDRCT    3652 non-null   object \n",
      " 13  WGUST    3652 non-null   float64\n",
      "dtypes: float64(7), int64(2), object(5)\n",
      "memory usage: 399.6+ KB\n"
     ]
    }
   ],
   "source": [
    "athens_2010_2019_df.info()"
   ]
  },
  {
   "cell_type": "code",
   "execution_count": 19,
   "id": "2255a015",
   "metadata": {},
   "outputs": [
    {
     "data": {
      "text/plain": [
       "'2010-01-01'"
      ]
     },
     "execution_count": 19,
     "metadata": {},
     "output_type": "execute_result"
    }
   ],
   "source": [
    "athens_2010_2019_df['DATE'].min() # η μικρότερη date "
   ]
  },
  {
   "cell_type": "code",
   "execution_count": 20,
   "id": "64fbc2b5",
   "metadata": {},
   "outputs": [
    {
     "data": {
      "text/plain": [
       "'2019-12-31'"
      ]
     },
     "execution_count": 20,
     "metadata": {},
     "output_type": "execute_result"
    }
   ],
   "source": [
    "athens_2010_2019_df['DATE'].max() # η μεγαλύτερη date "
   ]
  },
  {
   "cell_type": "markdown",
   "id": "e80ef1bd",
   "metadata": {},
   "source": [
    "---\n",
    "* Παρατηρούμε οτι το χρονικό διάστημα ή οι ημερομηνίες που έχουν null τιμες για την κολώνα \"ΤAVG\" του DATAFRAME \"weather_df\" δεν ταυτίζονται με καμία ημερομηνία απο το DATAFRAME \"athens_2010_2019_df\".\n",
    "---\n"
   ]
  },
  {
   "cell_type": "code",
   "execution_count": null,
   "id": "592fac37",
   "metadata": {},
   "outputs": [],
   "source": []
  }
 ],
 "metadata": {
  "kernelspec": {
   "display_name": "Python 3 (ipykernel)",
   "language": "python",
   "name": "python3"
  },
  "language_info": {
   "codemirror_mode": {
    "name": "ipython",
    "version": 3
   },
   "file_extension": ".py",
   "mimetype": "text/x-python",
   "name": "python",
   "nbconvert_exporter": "python",
   "pygments_lexer": "ipython3",
   "version": "3.10.4"
  },
  "widgets": {
   "application/vnd.jupyter.widget-state+json": {
    "state": {},
    "version_major": 2,
    "version_minor": 0
   }
  }
 },
 "nbformat": 4,
 "nbformat_minor": 5
}
